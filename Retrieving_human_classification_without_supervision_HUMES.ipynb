{
  "nbformat": 4,
  "nbformat_minor": 0,
  "metadata": {
    "colab": {
      "provenance": [],
      "authorship_tag": "ABX9TyOpX0vccBzebY7NlTWW09Cq"
    },
    "kernelspec": {
      "name": "python3",
      "display_name": "Python 3"
    },
    "language_info": {
      "name": "python"
    }
  },
  "cells": [
    {
      "cell_type": "markdown",
      "source": [
        "# The Pursuit of Human Labeling: A New Perspective on Unsupervised Learning"
      ],
      "metadata": {
        "id": "yr0rDrIBi4I5"
      }
    },
    {
      "cell_type": "markdown",
      "source": [
        "A new approach to unsupervised classification based on existing vision models"
      ],
      "metadata": {
        "id": "ESojbm-PifZo"
      }
    },
    {
      "cell_type": "markdown",
      "source": [
        "Implementation of the research paper published by Artyom Gadetsky and Maria Brbic from the EPFL AI Reasearch Center. The abstract can be found [here](https://openreview.net/pdf?id=3GpIeVYw8X)."
      ],
      "metadata": {
        "id": "7deGeYjuiMhX"
      }
    },
    {
      "cell_type": "markdown",
      "source": [
        "**Approach** : Human labeled points are linearly separable in a sufficiently strong\n",
        "representation space, and are invariant to the underlying model and resulting representation space."
      ],
      "metadata": {
        "id": "JmFiA1x6jNmi"
      }
    },
    {
      "cell_type": "code",
      "execution_count": null,
      "metadata": {
        "id": "B8lb9gZhVVcm"
      },
      "outputs": [],
      "source": [
        "!wget https://brbiclab.epfl.ch/wp-content/uploads/2023/11/data.zip\n",
        "!unzip data.zip"
      ]
    },
    {
      "cell_type": "code",
      "source": [
        "import torch\n",
        "import torchvision.models as models\n",
        "import numpy as np\n",
        "\n",
        "phi2model=torch.hub.load('facebookresearch/dinov2', 'dinov2_vits14')\n",
        "\n",
        "phi2model.eval()\n",
        "statedict=phi2model.state_dict()\n"
      ],
      "metadata": {
        "id": "M7KMbEYAIUI3"
      },
      "execution_count": null,
      "outputs": []
    },
    {
      "cell_type": "code",
      "source": [
        "# convert to numpy\n",
        "numpy_params = {key: value.numpy() for key, value in statedict.items()}\n",
        "#save npy file\n",
        "np.save('dinov2basic.npy', numpy_params)"
      ],
      "metadata": {
        "id": "1XdydVGBJJcn"
      },
      "execution_count": 2,
      "outputs": []
    },
    {
      "cell_type": "code",
      "source": [],
      "metadata": {
        "id": "6ndJJn6PJPC-"
      },
      "execution_count": null,
      "outputs": []
    }
  ]
}