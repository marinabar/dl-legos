{
 "cells": [
  {
   "cell_type": "markdown",
   "id": "229caa61",
   "metadata": {},
   "source": [
    "# Building a convolutional neural network from scratch"
   ]
  },
  {
   "cell_type": "code",
   "execution_count": null,
   "id": "d6af797f",
   "metadata": {},
   "outputs": [],
   "source": [
    "import numpy as np\n",
    "import matplotlib.pyplot as plt\n",
    "from scipy.signal import convolve2d, correlate2d\n",
    "# conveolve2d is just correlate2d with flipped kernel"
   ]
  },
  {
   "cell_type": "markdown",
   "id": "3c685d52",
   "metadata": {},
   "source": [
    "### Operators"
   ]
  },
  {
   "cell_type": "code",
   "execution_count": null,
   "id": "3de73079",
   "metadata": {},
   "outputs": [],
   "source": [
    "# activation Functions\n",
    "def sigmoid(x):\n",
    "    return 1 / (1 + np.exp(-x))\n",
    "\n",
    "def sigmoid_derivative(x):\n",
    "    return sigmoid(x) * (1 - sigmoid(x))\n",
    "\n",
    "def relu(x):\n",
    "    return np.maximum(0, x)\n",
    "\n",
    "def relu_derivative(x):\n",
    "    return np.where(x > 0, 1, 0)"
   ]
  },
  {
   "cell_type": "code",
   "execution_count": null,
   "id": "7bffb70d",
   "metadata": {},
   "outputs": [],
   "source": [
    "# Layers \n",
    "\n",
    "class Layer:\n",
    "    def __init__(self):\n",
    "        self.input = None\n",
    "        self.output = None\n",
    "\n",
    "class Dense(Layer):\n",
    "    def __init__(self, input_shape, output_shape):\n",
    "        pass\n",
    "\n",
    "class Convolutional(Layer):\n",
    "    def __init__(self, input_shape, kernel_size, num_kernels):\n",
    "        self.input_depth, self.input_height, self.input_width = input_shape\n",
    "        self.kernel_size = kernel_size\n",
    "        self.num_kernels = num_kernels\n",
    "        self.output_shape = (num_kernels, self.height - kernel_size + 1, self.width - kernel_size + 1)\n",
    "        self.kernels_shape = (num_kernels, self.input_depth, kernel_size, kernel_size)\n",
    "        self.biases = np.random.randn(num_kernels, 1)\n",
    "        self.kernels = np.random.randn(*self.kernels_shape)\n",
    "\n",
    "    def forward(self, input):\n",
    "        self.input = input\n",
    "        self.output = np.zeros(self.output_shape)\n",
    "        for i in range(self.num_kernels):\n",
    "            for j in range(self.input_depth):\n",
    "                self.output[i] += correlate2d(input[j], self.kernels[i, j])\n",
    "            self.output[i] += self.biases[i]\n",
    "        return self.output\n",
    "\n",
    "    def backward(self, learning_rate, gradient):\n",
    "        self.biases -= learning_rate * gradient\n",
    "        kernels_gradient = np.zeros(self.kernels_shape)\n",
    "        input_gradient = np.zeros(self.input_shape)\n",
    "        # backward pass\n",
    "        for i in range(self.input_depth):\n",
    "            for j in range(self.num_kernels):\n",
    "                input_gradient[i] += convolve2d(gradient[j], self.kernels[j, i])\n",
    "                kernels_gradient[j, i] += correlate2d(self.input[i], gradient[j])\n",
    "\n",
    "        self.kernels -= learning_rate * kernels_gradient\n",
    "        # Gradient calculation and weight update\n",
    "        pass"
   ]
  },
  {
   "cell_type": "markdown",
   "id": "768c53b6",
   "metadata": {},
   "source": []
  }
 ],
 "metadata": {
  "kernelspec": {
   "display_name": "method",
   "language": "python",
   "name": "python3"
  },
  "language_info": {
   "name": "python",
   "version": "3.10.16"
  }
 },
 "nbformat": 4,
 "nbformat_minor": 5
}
